{
 "cells": [
  {
   "cell_type": "markdown",
   "metadata": {},
   "source": [
    "# Steps:\n",
    "* 1) Collect all missing comment IDs in files for 2015 compiled by @dgaff\n",
    "* 2) Collect all parent IDs that were referenced by comments in 2015, from pushshift.io data dumps on BigQuery\n",
    "* 3) Intersecting missing comment IDs with referenced BQ parent IDs - gives us list of missing parents (\"dangling references\")\n",
    "* 4) Patch step: Using the Reddit API, query for missing parents and measure the amount we can retrieve.\n",
    "\n",
    "Note: This analysis works ONLY WITH COMMENTS from 2015. Numbers for missing 'reference' submissions would change. But for the current analysis, only missing 'referenced' comments are considered."
   ]
  },
  {
   "cell_type": "code",
   "execution_count": 7,
   "metadata": {},
   "outputs": [
    {
     "name": "stdout",
     "output_type": "stream",
     "text": [
      "No. of missing parent IDs for month 2015- 01  =  21\n",
      "No. of missing parent IDs for month 2015- 02  =  132\n",
      "No. of missing parent IDs for month 2015- 03  =  208\n",
      "No. of missing parent IDs for month 2015- 04  =  138\n",
      "No. of missing parent IDs for month 2015- 05  =  150\n",
      "No. of missing parent IDs for month 2015- 06  =  898\n",
      "No. of missing parent IDs for month 2015- 07  =  4504\n",
      "No. of missing parent IDs for month 2015- 08  =  81\n",
      "No. of missing parent IDs for month 2015- 09  =  24\n",
      "No. of missing parent IDs for month 2015- 10  =  378\n",
      "No. of missing parent IDs for month 2015- 11  =  224\n",
      "No. of missing parent IDs for month 2015- 12  =  335\n",
      "Total parents in 2015:  331831351\n",
      "Total missing parents in 2015:  7093\n"
     ]
    }
   ],
   "source": [
    "'''\n",
    "author: ceshwar\n",
    "date: 16-03-2018\n",
    "'''\n",
    "\n",
    "import pandas as pd\n",
    "\n",
    "filepath = \"../../missing-ids/monthly_missing_data_start_to_2017_06/2015/\"\n",
    "\n",
    "monthly_dangling_references = []\n",
    "\n",
    "overall_parent_ids_2015 = 0\n",
    "overall_missing_parents_2015 = 0\n",
    "\n",
    "for month in range(1,13):\n",
    "\n",
    "    import time\n",
    "    start_time = time.time()\n",
    "\n",
    "    if month < 10:\n",
    "        month_str = \"0\" + str(month)\n",
    "    else:\n",
    "        month_str = str(month)\n",
    "    \n",
    "#     print(\"Working on 2015/\", month_str)\n",
    "    \n",
    "    df = pd.read_csv(filepath + 'RC_2015-' + month_str + '.csv', names = ['start_missing_ID', 'next_known_ID', 'gap_size'])\n",
    "    \n",
    "    list_missing_IDs = []\n",
    "\n",
    "    for index, row in df.iterrows():\n",
    "        start = row['start_missing_ID'].astype(int)\n",
    "        offset = row['gap_size']\n",
    "\n",
    "        for i in range(start, start + offset):\n",
    "            list_missing_IDs.append(i)\n",
    "\n",
    "    temp = pd.DataFrame()\n",
    "    temp['name'] = list_missing_IDs\n",
    "\n",
    "    from numpy import base_repr\n",
    "\n",
    "    def base_10_to_36(num):\n",
    "        return base_repr(num, 36).lower()\n",
    "\n",
    "    temp['name'] = temp['name'].apply(base_10_to_36)\n",
    "    \n",
    "    ###get IDs in reddit parent_ID format; example: <t1_XXXX>\n",
    "    comment_ids = []\n",
    "    for _id in temp['name']:\n",
    "        comment_ids.append(\"t1_\" + str(_id))\n",
    "    temp['comment_id'] = comment_ids\n",
    "\n",
    "    ###load all parent_IDs from BQ\n",
    "    bigquery_parent_IDs = pd.read_csv('../../missing-ids/pid-2015-' + month_str + '.dms')\n",
    "    \n",
    "    ###intersection between missing IDs and parent IDs (comments only)\n",
    "    hit_list = bigquery_parent_IDs[bigquery_parent_IDs.parent_id.isin(temp['comment_id'])]\n",
    "    monthly_dangling_references.append(hit_list)\n",
    "    print(\"No. of missing parent IDs for month 2015-\", month_str ,\" = \", len(hit_list))\n",
    "    \n",
    "    ###print them out\n",
    "    import sys\n",
    "#     for _id in hit_list['parent_id']:\n",
    "#         sys.stdout.write(\"\\\"\" + str(_id) + \"\\\",\")\n",
    "    \n",
    "    overall_missing_parents_2015 += len(hit_list)\n",
    "    overall_parent_ids_2015 += len(bigquery_parent_IDs)\n",
    "    \n",
    "#     print(\"\\n--- %s seconds since start of this month's analysis---\" % (time.time() - start_time))\n",
    "\n",
    "print(\"Total parents in 2015: \", overall_parent_ids_2015)\n",
    "print(\"Total missing parents in 2015: \", overall_missing_parents_2015)"
   ]
  },
  {
   "cell_type": "code",
   "execution_count": 8,
   "metadata": {},
   "outputs": [
    {
     "name": "stdout",
     "output_type": "stream",
     "text": [
      "Total parents in 2015:  331831351\n",
      "Total missing parents in 2015:  7093\n"
     ]
    }
   ],
   "source": [
    "print(\"Total parents in 2015: \", overall_parent_ids_2015)\n",
    "print(\"Total missing parents in 2015: \", overall_missing_parents_2015)"
   ]
  },
  {
   "cell_type": "code",
   "execution_count": 142,
   "metadata": {},
   "outputs": [
    {
     "name": "stdout",
     "output_type": "stream",
     "text": [
      "Percentage of references to missing comment IDs =  0.002137531604118985  %\n"
     ]
    }
   ],
   "source": [
    "print(\"Percentage of references to missing comment IDs = \", 100*(overall_missing_parents_2015/overall_parent_ids_2015), \" %\")"
   ]
  },
  {
   "cell_type": "markdown",
   "metadata": {},
   "source": [
    "# Of 331M referenced parent comment IDs in 2015, 7093 are missing parents! \n",
    "* This is 0.0021 % out of all parent comments in 2015. This percentage would be smaller if we compare it to the actual number of comments in 2015, since this would include parents and non-parents (i.e., children or leaf nodes)"
   ]
  },
  {
   "cell_type": "code",
   "execution_count": 133,
   "metadata": {},
   "outputs": [],
   "source": [
    "import praw\n",
    "from itertools import islice\n",
    "                \n",
    "reddit = praw.Reddit(client_id=client_id,\n",
    "                     client_secret=client_secret,\n",
    "                     password=password,\n",
    "                     user_agent=user_agent,\n",
    "                     username = username)"
   ]
  },
  {
   "cell_type": "markdown",
   "metadata": {},
   "source": [
    "# Query the Reddit API for these missing parent IDs and calculate how many comments can be retrieved (aka, \"the patch step\")"
   ]
  },
  {
   "cell_type": "code",
   "execution_count": 166,
   "metadata": {},
   "outputs": [
    {
     "name": "stdout",
     "output_type": "stream",
     "text": [
      "Month =  1 /2015; #missing parents =  21\n",
      "retrieved 13 / 21 things\n",
      "Month =  2 /2015; #missing parents =  132\n",
      "retrieved 117 / 132 things\n",
      "Month =  3 /2015; #missing parents =  208\n",
      "retrieved 93 / 208 things\n",
      "Month =  4 /2015; #missing parents =  138\n",
      "retrieved 88 / 138 things\n",
      "Month =  5 /2015; #missing parents =  150\n",
      "retrieved 85 / 150 things\n",
      "Month =  6 /2015; #missing parents =  898\n",
      "retrieved 653 / 898 things\n",
      "Month =  7 /2015; #missing parents =  4504\n",
      "retrieved 653 / 4504 things\n",
      "Month =  8 /2015; #missing parents =  81\n",
      "retrieved 55 / 81 things\n",
      "Month =  9 /2015; #missing parents =  24\n",
      "retrieved 20 / 24 things\n",
      "Month =  10 /2015; #missing parents =  378\n",
      "retrieved 359 / 378 things\n",
      "Month =  11 /2015; #missing parents =  224\n",
      "retrieved 213 / 224 things\n",
      "Month =  12 /2015; #missing parents =  335\n",
      "retrieved 334 / 335 things\n"
     ]
    }
   ],
   "source": [
    "month = 1\n",
    "\n",
    "missing_parents = 0\n",
    "parents_retrieved = 0\n",
    "\n",
    "for hit_list in monthly_dangling_references:\n",
    "    print(\"Month = \", month, \"/2015; #missing parents = \", len(hit_list))\n",
    "    month +=1\n",
    "    missing_ids = hit_list['parent_id']\n",
    "    # fetch missing things by id\n",
    "    missing_things = list( reddit.info(list(missing_ids)))\n",
    "    \n",
    "    missing_parents += len(missing_ids)\n",
    "    parents_retrieved += len(missing_things)\n",
    "\n",
    "    print('retrieved', len(missing_things), '/', len(missing_ids), 'things')\n",
    "    \n",
    "    if month < 10:\n",
    "        month_str = \"0\" + str(month)\n",
    "    else:\n",
    "        month_str = str(month)\n",
    "\n",
    "    ###write patches to file\n",
    "    import json\n",
    "    for thing in missing_things:\n",
    "        data = json.dumps({i:str(j) for i, j in thing.__dict__.items() if not i.startswith('_')})    \n",
    "        with open(\"patched-parentIDs-2015-\" + month_str + \".txt\", 'a+') as outfile:\n",
    "            json.dump(data, outfile)"
   ]
  },
  {
   "cell_type": "code",
   "execution_count": 147,
   "metadata": {},
   "outputs": [
    {
     "name": "stdout",
     "output_type": "stream",
     "text": [
      "Overall missing parents in 2015:  7093\n",
      "Number of parents retrieved by patch step:  2683\n",
      "Percentage of missing parents that can be retrieved by the patch step =  37.82602565910052  %\n"
     ]
    }
   ],
   "source": [
    "print(\"Overall missing parents in 2015: \", missing_parents)\n",
    "print(\"Number of parents retrieved by patch step: \", parents_retrieved)\n",
    "print(\"Percentage of missing parents that can be retrieved by the patch step = \", 100*(parents_retrieved/missing_parents) , \" %\")"
   ]
  },
  {
   "cell_type": "markdown",
   "metadata": {},
   "source": [
    "# Summary: \n",
    "* Out of 331M referenced parent comment IDs in 2015, 7093 are missing parents. \n",
    "* This is 0.0021 % out of all parent comments in 2015 (would be smaller when compared to total # of all comments in 2015).\n",
    "* Out of these missing (parent) comments, 2683 could be retrieved by querying the Reddit API. \n",
    "* Inclusion of a patch step would help retrieve 37.83% of the above mentioned missing parent comments. "
   ]
  }
 ],
 "metadata": {
  "kernelspec": {
   "display_name": "Python 3",
   "language": "python",
   "name": "python3"
  },
  "language_info": {
   "codemirror_mode": {
    "name": "ipython",
    "version": 3
   },
   "file_extension": ".py",
   "mimetype": "text/x-python",
   "name": "python",
   "nbconvert_exporter": "python",
   "pygments_lexer": "ipython3",
   "version": "3.6.4"
  }
 },
 "nbformat": 4,
 "nbformat_minor": 2
}
